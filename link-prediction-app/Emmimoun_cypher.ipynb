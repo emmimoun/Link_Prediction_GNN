{
 "cells": [
  {
   "cell_type": "code",
   "execution_count": 4,
   "metadata": {},
   "outputs": [
    {
     "name": "stdout",
     "output_type": "stream",
     "text": [
      "Last run on: 2022-05-23 01:29:24 ('W. Central Africa Standard Time', 'W. Central Africa Daylight Time')\n"
     ]
    }
   ],
   "source": [
    "from neo4j import GraphDatabase\n",
    "import networks as nxj\n",
    "from networks import community\n",
    "import  numpy as np\n",
    "from sklearn.svm import SVC\n",
    "from neo4j import GraphDatabase\n",
    "import networks as netwXj\n",
    "from networks import community\n",
    "import pandas as pd\n",
    "import matplotlib.pyplot as plt\n",
    "import csv\n",
    "import datetime, time\n",
    "print ('Last run on: ' + datetime.datetime.now().strftime(\"%Y-%m-%d %H:%M:%S\") + ' ' + repr(time.tzname))\n",
    "\n",
    "def create_database(mygraph,database_name):\n",
    "    if database_name in show_databases(mygraph):\n",
    "        print('Already existe')\n",
    "        return False\n",
    "    else :\n",
    "        create_or_replace_database(mygraph,database_name)\n",
    "        print(database_name,' created successfully !')\n",
    "        return True\n",
    "\n",
    "def get_graph_list(G):\n",
    "    edges=list(G.edges(data=True))\n",
    "    nodes=list(G.nodes(data=True))\n",
    "    return nodes,edges\n",
    "def use_database(mygraph, graph_name='neo4j'):\n",
    "    driver = GraphDatabase.driver(uri=\"bolt://localhost:11003\",auth=(\"emmimoun\",\"emmimoun\"),database=graph_name)\n",
    "    mygraph = nxj.Graph(driver)\n",
    "    #mygraph.delete_all()\n",
    "    mygraph.identifier_property = 'identifiant'\n",
    "    mygraph.relationship_type = '-'\n",
    "    mygraph.node_label = 'Personne'\n",
    "    print(graph_name)\n",
    "    return mygraph\n",
    "\n",
    "def create_or_replace_database(mygraph,database_name):\n",
    "    query = \"CREATE OR REPLACE DATABASE %s\" %database_name\n",
    "    with mygraph.driver.session() as session:\n",
    "        session.run(query)\n",
    "def show_databases(\n",
    "    G, k=None, normalized=True, weight=None, endpoints=False, seed=None):\n",
    "    # doesn't currently support `weight`, `k`, `endpoints`, `seed`\n",
    "\n",
    "    query = \"show databases\"\n",
    "\n",
    "    params = G.base_params()\n",
    "\n",
    "    with G.driver.session() as session:\n",
    "        result = [row[\"name\"] for row in session.run(query, params)]\n",
    "    return result\n",
    "\n",
    "def txt_to_graph(mygraph,nodes_file_txt=\"nodes.txt\",edges_file_txt=\"edges.txt\"):\n",
    "    mygraph.delete_all()\n",
    "    mygraph.identifier_property = 'identifiant'\n",
    "    mygraph.relationship_type = '-'\n",
    "    mygraph.node_label = 'Personne'\n",
    "    FNodes = csv.reader(open(nodes_file_txt),delimiter='\\n')\n",
    "    FEdges = csv.reader(open(edges_file_txt),delimiter='\\n')\n",
    "    mygraph.delete_all()\n",
    "    for row in FNodes:\n",
    "        rowlist=row[0].split(' ')\n",
    "        mygraph.add_node(\n",
    "            rowlist[0],\n",
    "            familyName=rowlist[1],\n",
    "            firstName=rowlist[2],\n",
    "            dateOfBirth=rowlist[3])\n",
    "    for row in FEdges:\n",
    "        rowlist=row[0].split(' ')\n",
    "        mygraph.add_edge(rowlist[0],rowlist[1],timpstamp=rowlist[2],bool10=rowlist[3])\n",
    "\n",
    "def graph_to_txt(mygraph,file_edges_from_neo4j=\"edges_tompon.txt\",file_nodes_from_neo4j=\"nodes_tompon.txt\"):\n",
    "    mynodes,myedges=get_graph_list(mygraph)\n",
    "    \n",
    "    ef=open(file_edges_from_neo4j,'w')\n",
    "    for edge in myedges:\n",
    "        listAttributeEdge=[edge[0],edge[1]]\n",
    "        listAttributeEdge.append(edge[2]['timpstamp'])\n",
    "        listAttributeEdge.append(edge[2]['bool10'])\n",
    "        #print(listAttributeEdge)\n",
    "        ef.write(''+str(listAttributeEdge[0])+' '+str(listAttributeEdge[1])+' '+str(listAttributeEdge[2])+' '+str(listAttributeEdge[3])+'\\n')\n",
    "        \n",
    "    ef.close()\n",
    "\n",
    "    nf=open(file_nodes_from_neo4j,'w')\n",
    "\n",
    "    for i in list(range(len(mynodes))):\n",
    "        node=mynodes[i]\n",
    "        id=node[0]\n",
    "        #print('id',id)\n",
    "        attributes=node[1]\n",
    "        #print('attributes',attributes)\n",
    "        default = 'Unknown'\n",
    "        firstName=attributes.get('firstName', default)\n",
    "        #print('firstName',firstName)\n",
    "        familyName=attributes.get('familyName', default)\n",
    "        #print('familyName',familyName)\n",
    "        dateOfBirth=attributes.get('dateOfBirth', default)\n",
    "        #print('dateOfBirth',dateOfBirth)\n",
    "        #print('\\n------------------------------\\n')\n",
    "        listAttribute=[id,firstName,familyName,dateOfBirth]\n",
    "        nf.write(''+str(listAttribute[0])+' '+str(listAttribute[1])+' '+str(listAttribute[2])+' '+str(listAttribute[3])+'\\n')\n",
    "    nf.close()\n",
    "    print('succes')\n",
    "\n",
    "def initGraph():\n",
    "    driver = GraphDatabase.driver(uri=\"bolt://localhost:11003\",auth=(\"emmimoun\",\"emmimoun\"),database='neo4j')\n",
    "    mygraph = nxj.Graph(driver)\n",
    "    mygraph.delete_all()\n",
    "    mygraph.identifier_property = 'identifiant'\n",
    "    mygraph.relationship_type = '-'\n",
    "    mygraph.node_label = 'Personne'\n",
    "    return mygraph\n",
    "\n"
   ]
  },
  {
   "cell_type": "code",
   "execution_count": 5,
   "metadata": {},
   "outputs": [
    {
     "name": "stdout",
     "output_type": "stream",
     "text": [
      "neo4j\n"
     ]
    }
   ],
   "source": [
    "# initializing\n",
    "mygraph=initGraph()\n",
    "mygraph=use_database('neo4j')\n",
    "txt_to_graph(mygraph,nodes_file_txt=\"datasets/feature_Graph_input.txt\",edges_file_txt=\"datasets/Graph_input copy.txt\")\n",
    "mynodes,myedges=get_graph_list(mygraph)"
   ]
  },
  {
   "cell_type": "code",
   "execution_count": 165,
   "metadata": {},
   "outputs": [
    {
     "name": "stdout",
     "output_type": "stream",
     "text": [
      "succes\n"
     ]
    }
   ],
   "source": []
  },
  {
   "cell_type": "code",
   "execution_count": 163,
   "metadata": {},
   "outputs": [],
   "source": [
    "mygraph.delete_all()"
   ]
  },
  {
   "cell_type": "code",
   "execution_count": 105,
   "metadata": {},
   "outputs": [],
   "source": [
    "txt_to_graph(mygraph)\n",
    "mynodes,myedges=get_graph_list(mygraph)"
   ]
  },
  {
   "cell_type": "code",
   "execution_count": 176,
   "metadata": {},
   "outputs": [],
   "source": [
    "databases=show_databases(mygraph)"
   ]
  },
  {
   "cell_type": "code",
   "execution_count": 183,
   "metadata": {},
   "outputs": [
    {
     "data": {
      "text/plain": [
       "list"
      ]
     },
     "execution_count": 183,
     "metadata": {},
     "output_type": "execute_result"
    }
   ],
   "source": [
    "type(databases)"
   ]
  },
  {
   "cell_type": "code",
   "execution_count": 108,
   "metadata": {},
   "outputs": [],
   "source": []
  },
  {
   "cell_type": "code",
   "execution_count": 168,
   "metadata": {},
   "outputs": [
    {
     "name": "stdout",
     "output_type": "stream",
     "text": [
      "batata\n"
     ]
    }
   ],
   "source": [
    "mygraph = use_database(mygraph,databases[0])"
   ]
  },
  {
   "cell_type": "code",
   "execution_count": 99,
   "metadata": {},
   "outputs": [],
   "source": [
    "mygraph.delete_all()"
   ]
  },
  {
   "cell_type": "code",
   "execution_count": 169,
   "metadata": {},
   "outputs": [
    {
     "name": "stdout",
     "output_type": "stream",
     "text": [
      "neo4j\n"
     ]
    }
   ],
   "source": [
    "mygraph = use_database(mygraph,databases[1])"
   ]
  },
  {
   "cell_type": "code",
   "execution_count": 111,
   "metadata": {},
   "outputs": [],
   "source": [
    "mygraph.delete_all()"
   ]
  },
  {
   "cell_type": "code",
   "execution_count": 170,
   "metadata": {},
   "outputs": [],
   "source": [
    "txt_to_graph(mygraph)"
   ]
  },
  {
   "cell_type": "code",
   "execution_count": 113,
   "metadata": {},
   "outputs": [],
   "source": [
    "#################################################################################################################"
   ]
  },
  {
   "cell_type": "code",
   "execution_count": null,
   "metadata": {},
   "outputs": [],
   "source": [
    "mygraph=initalize_graph()\n"
   ]
  },
  {
   "cell_type": "code",
   "execution_count": null,
   "metadata": {},
   "outputs": [],
   "source": [
    "databases=show_databases()\n"
   ]
  },
  {
   "cell_type": "code",
   "execution_count": null,
   "metadata": {},
   "outputs": [],
   "source": [
    "mygraph=use_database('neo4j2')\n"
   ]
  },
  {
   "cell_type": "code",
   "execution_count": 141,
   "metadata": {},
   "outputs": [],
   "source": []
  },
  {
   "cell_type": "code",
   "execution_count": 172,
   "metadata": {},
   "outputs": [
    {
     "name": "stdout",
     "output_type": "stream",
     "text": [
      "Already existe\n"
     ]
    },
    {
     "data": {
      "text/plain": [
       "False"
      ]
     },
     "execution_count": 172,
     "metadata": {},
     "output_type": "execute_result"
    }
   ],
   "source": [
    "create_database(mygraph,'moussaoui')"
   ]
  },
  {
   "cell_type": "code",
   "execution_count": 137,
   "metadata": {},
   "outputs": [],
   "source": []
  },
  {
   "cell_type": "code",
   "execution_count": 173,
   "metadata": {},
   "outputs": [],
   "source": [
    "create_or_replace_database(mygraph,'moussaoui')"
   ]
  },
  {
   "cell_type": "code",
   "execution_count": null,
   "metadata": {},
   "outputs": [],
   "source": []
  }
 ],
 "metadata": {
  "kernelspec": {
   "display_name": "Python 3.9.7 ('base')",
   "language": "python",
   "name": "python3"
  },
  "language_info": {
   "codemirror_mode": {
    "name": "ipython",
    "version": 3
   },
   "file_extension": ".py",
   "mimetype": "text/x-python",
   "name": "python",
   "nbconvert_exporter": "python",
   "pygments_lexer": "ipython3",
   "version": "3.9.7"
  },
  "vscode": {
   "interpreter": {
    "hash": "ad2bdc8ecc057115af97d19610ffacc2b4e99fae6737bb82f5d7fb13d2f2c186"
   }
  }
 },
 "nbformat": 4,
 "nbformat_minor": 2
}
