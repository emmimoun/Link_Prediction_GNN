{
 "cells": [
  {
   "cell_type": "code",
   "execution_count": 5,
   "metadata": {},
   "outputs": [
    {
     "name": "stdout",
     "output_type": "stream",
     "text": [
      "Last run on: 2022-04-21 09:17:47 ('W. Central Africa Standard Time', 'W. Central Africa Daylight Time')\n"
     ]
    }
   ],
   "source": [
    "from neo4j import GraphDatabase\n",
    "import networks as nxj\n",
    "from networks import community\n",
    "import  numpy as np\n",
    "from sklearn.svm import SVC\n",
    "from neo4j import GraphDatabase\n",
    "import networks as netwXj\n",
    "from networks import community\n",
    "import pandas as pd\n",
    "import matplotlib.pyplot as plt\n",
    "import csv\n",
    "import datetime, time\n",
    "print ('Last run on: ' + datetime.datetime.now().strftime(\"%Y-%m-%d %H:%M:%S\") + ' ' + repr(time.tzname))\n",
    "def get_graph_list(G):\n",
    "    edges=list(G.edges(data=True))\n",
    "    nodes=list(G.nodes(data=True))\n",
    "    return nodes,edges\n",
    "\n",
    "def txt_to_graph(mygraph):\n",
    "    mygraph.delete_all()\n",
    "    mygraph.identifier_property = 'identifiant'\n",
    "    mygraph.relationship_type = '-'\n",
    "    mygraph.node_label = 'Personne'\n",
    "    FNodes = csv.reader(open(\"nodes.txt\"),delimiter='\\n')\n",
    "    FEdges = csv.reader(open(\"edges.txt\"),delimiter='\\n')\n",
    "    mygraph.delete_all()\n",
    "    for row in FNodes:\n",
    "        rowlist=row[0].split(' ')\n",
    "        mygraph.add_node(\n",
    "            rowlist[0],\n",
    "            familyName=rowlist[1],\n",
    "            firstName=rowlist[2],\n",
    "            dateOfBirth=rowlist[3])\n",
    "    for row in FEdges:\n",
    "        rowlist=row[0].split(' ')\n",
    "        mygraph.add_edge(rowlist[0],rowlist[1],timpstamp=rowlist[2],bool10=rowlist[3])\n",
    "\n",
    "def graph_to_txt(mygraph):\n",
    "    mynodes,myedges=get_graph_list(mygraph)\n",
    "    \n",
    "    ef=open(\"edgesFromNeo4j.txt\",'w')\n",
    "    for edge in myedges:\n",
    "        listAttributeEdge=[edge[0],edge[1]]\n",
    "        listAttributeEdge.append(edge[2]['timpstamp'])\n",
    "        listAttributeEdge.append(edge[2]['bool10'])\n",
    "        #print(listAttributeEdge)\n",
    "        ef.write(''+str(listAttributeEdge[0])+' '+str(listAttributeEdge[1])+' '+str(listAttributeEdge[2])+' '+str(listAttributeEdge[3])+'\\n')\n",
    "        \n",
    "    ef.close()\n",
    "\n",
    "    nf=open(\"nodesFromNeo4j.txt\",'w')\n",
    "\n",
    "    for i in list(range(len(mynodes))):\n",
    "        node=mynodes[i]\n",
    "        id=node[0]\n",
    "        #print('id',id)\n",
    "        attributes=node[1]\n",
    "        #print('attributes',attributes)\n",
    "        default = 'Unknown'\n",
    "        firstName=attributes.get('firstName', default)\n",
    "        #print('firstName',firstName)\n",
    "        familyName=attributes.get('familyName', default)\n",
    "        #print('familyName',familyName)\n",
    "        dateOfBirth=attributes.get('dateOfBirth', default)\n",
    "        #print('dateOfBirth',dateOfBirth)\n",
    "        #print('\\n------------------------------\\n')\n",
    "        listAttribute=[id,firstName,familyName,dateOfBirth]\n",
    "        nf.write(''+str(listAttribute[0])+' '+str(listAttribute[1])+' '+str(listAttribute[2])+' '+str(listAttribute[3])+'\\n')\n",
    "    nf.close()\n",
    "    print('succes')\n",
    "\n",
    "def initGraph():\n",
    "    driver = GraphDatabase.driver(uri=\"bolt://localhost:11003\",auth=(\"emmimoun\",\"emmimoun\"))\n",
    "    mygraph = nxj.Graph(driver)\n",
    "    mygraph.delete_all()\n",
    "    mygraph.identifier_property = 'identifiant'\n",
    "    mygraph.relationship_type = '-'\n",
    "    mygraph.node_label = 'Personne'\n",
    "    return mygraph\n",
    "\n",
    "mygraph=initGraph()\n",
    "txt_to_graph(mygraph)\n",
    "mynodes,myedges=get_graph_list(mygraph)\n"
   ]
  },
  {
   "cell_type": "code",
   "execution_count": 3,
   "metadata": {},
   "outputs": [
    {
     "name": "stdout",
     "output_type": "stream",
     "text": [
      "succes\n"
     ]
    }
   ],
   "source": [
    "graph_to_txt(mygraph)"
   ]
  },
  {
   "cell_type": "code",
   "execution_count": 4,
   "metadata": {},
   "outputs": [],
   "source": [
    "mygraph.delete_all()"
   ]
  },
  {
   "cell_type": "code",
   "execution_count": null,
   "metadata": {},
   "outputs": [],
   "source": []
  }
 ],
 "metadata": {
  "interpreter": {
   "hash": "b3ba2566441a7c06988d0923437866b63cedc61552a5af99d1f4fb67d367b25f"
  },
  "kernelspec": {
   "display_name": "Python 3.9.7 64-bit",
   "language": "python",
   "name": "python3"
  },
  "language_info": {
   "codemirror_mode": {
    "name": "ipython",
    "version": 3
   },
   "file_extension": ".py",
   "mimetype": "text/x-python",
   "name": "python",
   "nbconvert_exporter": "python",
   "pygments_lexer": "ipython3",
   "version": "3.9.7"
  },
  "orig_nbformat": 4
 },
 "nbformat": 4,
 "nbformat_minor": 2
}
