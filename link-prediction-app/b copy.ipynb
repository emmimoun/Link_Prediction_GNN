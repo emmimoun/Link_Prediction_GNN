{
 "cells": [
  {
   "cell_type": "code",
   "execution_count": 15,
   "metadata": {},
   "outputs": [],
   "source": [
    "import csv\n",
    "import os\n"
   ]
  },
  {
   "cell_type": "code",
   "execution_count": 24,
   "metadata": {},
   "outputs": [
    {
     "name": "stdout",
     "output_type": "stream",
     "text": [
      "c:\\Users\\MSI GF\\OneDrive\\Desktop\\HI\\Link_Prediction_GNN\\link-prediction-app\\nodes.txt\n"
     ]
    }
   ],
   "source": [
    "import os \n",
    "simp_path = 'nodes.txt' \n",
    "abs_path = os.path.abspath(simp_path) \n",
    "print(abs_path)"
   ]
  },
  {
   "cell_type": "code",
   "execution_count": 37,
   "metadata": {},
   "outputs": [
    {
     "data": {
      "text/plain": [
       "'2022-05-26 00:23:01.281709'"
      ]
     },
     "execution_count": 37,
     "metadata": {},
     "output_type": "execute_result"
    }
   ],
   "source": [
    "\n",
    "from datetime import datetime\n",
    "  \n",
    "  \n",
    "str(datetime.now())"
   ]
  },
  {
   "cell_type": "code",
   "execution_count": 31,
   "metadata": {},
   "outputs": [
    {
     "ename": "FileNotFoundError",
     "evalue": "[Errno 2] No such file or directory: 'c:\\\\nodes.txt'",
     "output_type": "error",
     "traceback": [
      "\u001b[1;31m---------------------------------------------------------------------------\u001b[0m",
      "\u001b[1;31mFileNotFoundError\u001b[0m                         Traceback (most recent call last)",
      "\u001b[1;32mC:\\Users\\MSIGF~1\\AppData\\Local\\Temp/ipykernel_24288/1024874999.py\u001b[0m in \u001b[0;36m<module>\u001b[1;34m\u001b[0m\n\u001b[1;32m----> 1\u001b[1;33m \u001b[0mFNodes\u001b[0m \u001b[1;33m=\u001b[0m \u001b[0mcsv\u001b[0m\u001b[1;33m.\u001b[0m\u001b[0mreader\u001b[0m\u001b[1;33m(\u001b[0m\u001b[0mopen\u001b[0m\u001b[1;33m(\u001b[0m\u001b[0mos\u001b[0m\u001b[1;33m.\u001b[0m\u001b[0mpath\u001b[0m\u001b[1;33m.\u001b[0m\u001b[0mabspath\u001b[0m\u001b[1;33m(\u001b[0m\u001b[0msimp_path\u001b[0m\u001b[1;33m)\u001b[0m \u001b[1;33m)\u001b[0m\u001b[1;33m,\u001b[0m\u001b[0mdelimiter\u001b[0m\u001b[1;33m=\u001b[0m\u001b[1;34m'\\n'\u001b[0m\u001b[1;33m)\u001b[0m\u001b[1;33m\u001b[0m\u001b[1;33m\u001b[0m\u001b[0m\n\u001b[0m\u001b[0;32m      2\u001b[0m \u001b[1;32mfor\u001b[0m \u001b[0mrow\u001b[0m \u001b[1;32min\u001b[0m \u001b[0mFNodes\u001b[0m\u001b[1;33m:\u001b[0m\u001b[1;33m\u001b[0m\u001b[1;33m\u001b[0m\u001b[0m\n\u001b[0;32m      3\u001b[0m     \u001b[0mprint\u001b[0m\u001b[1;33m(\u001b[0m\u001b[0mrow\u001b[0m\u001b[1;33m)\u001b[0m\u001b[1;33m\u001b[0m\u001b[1;33m\u001b[0m\u001b[0m\n",
      "\u001b[1;31mFileNotFoundError\u001b[0m: [Errno 2] No such file or directory: 'c:\\\\nodes.txt'"
     ]
    }
   ],
   "source": [
    "FNodes = csv.reader(open(os.path.abspath(simp_path) ),delimiter='\\n')\n",
    "for row in FNodes:\n",
    "    print(row)"
   ]
  },
  {
   "cell_type": "code",
   "execution_count": null,
   "metadata": {},
   "outputs": [],
   "source": []
  },
  {
   "cell_type": "code",
   "execution_count": null,
   "metadata": {},
   "outputs": [],
   "source": []
  },
  {
   "cell_type": "code",
   "execution_count": 5,
   "metadata": {},
   "outputs": [
    {
     "name": "stdout",
     "output_type": "stream",
     "text": [
      "Last run on: 2022-04-21 09:17:47 ('W. Central Africa Standard Time', 'W. Central Africa Daylight Time')\n"
     ]
    }
   ],
   "source": [
    "from neo4j import GraphDatabase\n",
    "import networks as nxj\n",
    "from networks import community\n",
    "import  numpy as np\n",
    "from sklearn.svm import SVC\n",
    "from neo4j import GraphDatabase\n",
    "import networks as netwXj\n",
    "from networks import community\n",
    "import pandas as pd\n",
    "import matplotlib.pyplot as plt\n",
    "import csv\n",
    "import datetime, time\n",
    "print ('Last run on: ' + datetime.datetime.now().strftime(\"%Y-%m-%d %H:%M:%S\") + ' ' + repr(time.tzname))\n",
    "def get_graph_list(G):\n",
    "    edges=list(G.edges(data=True))\n",
    "    nodes=list(G.nodes(data=True))\n",
    "    return nodes,edges\n",
    "\n",
    "def txt_to_graph(mygraph):\n",
    "    mygraph.delete_all()\n",
    "    mygraph.identifier_property = 'identifiant'\n",
    "    mygraph.relationship_type = '-'\n",
    "    mygraph.node_label = 'Personne'\n",
    "    FNodes = csv.reader(open(\"nodes.txt\"),delimiter='\\n')\n",
    "    FEdges = csv.reader(open(\"edges.txt\"),delimiter='\\n')\n",
    "    mygraph.delete_all()\n",
    "    for row in FNodes:\n",
    "        rowlist=row[0].split(' ')\n",
    "        mygraph.add_node(\n",
    "            rowlist[0],\n",
    "            familyName=rowlist[1],\n",
    "            firstName=rowlist[2],\n",
    "            dateOfBirth=rowlist[3])\n",
    "    for row in FEdges:\n",
    "        rowlist=row[0].split(' ')\n",
    "        mygraph.add_edge(rowlist[0],rowlist[1],timpstamp=rowlist[2],bool10=rowlist[3])\n",
    "\n",
    "def graph_to_txt(mygraph):\n",
    "    mynodes,myedges=get_graph_list(mygraph)\n",
    "    \n",
    "    ef=open(\"edgesFromNeo4j.txt\",'w')\n",
    "    for edge in myedges:\n",
    "        listAttributeEdge=[edge[0],edge[1]]\n",
    "        listAttributeEdge.append(edge[2]['timpstamp'])\n",
    "        listAttributeEdge.append(edge[2]['bool10'])\n",
    "        #print(listAttributeEdge)\n",
    "        ef.write(''+str(listAttributeEdge[0])+' '+str(listAttributeEdge[1])+' '+str(listAttributeEdge[2])+' '+str(listAttributeEdge[3])+'\\n')\n",
    "        \n",
    "    ef.close()\n",
    "\n",
    "    nf=open(\"nodesFromNeo4j.txt\",'w')\n",
    "\n",
    "    for i in list(range(len(mynodes))):\n",
    "        node=mynodes[i]\n",
    "        id=node[0]\n",
    "        #print('id',id)\n",
    "        attributes=node[1]\n",
    "        #print('attributes',attributes)\n",
    "        default = 'Unknown'\n",
    "        firstName=attributes.get('firstName', default)\n",
    "        #print('firstName',firstName)\n",
    "        familyName=attributes.get('familyName', default)\n",
    "        #print('familyName',familyName)\n",
    "        dateOfBirth=attributes.get('dateOfBirth', default)\n",
    "        #print('dateOfBirth',dateOfBirth)\n",
    "        #print('\\n------------------------------\\n')\n",
    "        listAttribute=[id,firstName,familyName,dateOfBirth]\n",
    "        nf.write(''+str(listAttribute[0])+' '+str(listAttribute[1])+' '+str(listAttribute[2])+' '+str(listAttribute[3])+'\\n')\n",
    "    nf.close()\n",
    "    print('succes')\n",
    "\n",
    "def initGraph():\n",
    "    driver = GraphDatabase.driver(uri=\"bolt://localhost:11003\",auth=(\"emmimoun\",\"emmimoun\"))\n",
    "    mygraph = nxj.Graph(driver)\n",
    "    mygraph.delete_all()\n",
    "    mygraph.identifier_property = 'identifiant'\n",
    "    mygraph.relationship_type = '-'\n",
    "    mygraph.node_label = 'Personne'\n",
    "    return mygraph\n",
    "\n",
    "mygraph=initGraph()\n",
    "txt_to_graph(mygraph)\n",
    "mynodes,myedges=get_graph_list(mygraph)\n"
   ]
  },
  {
   "cell_type": "code",
   "execution_count": null,
   "metadata": {},
   "outputs": [],
   "source": []
  },
  {
   "cell_type": "code",
   "execution_count": 3,
   "metadata": {},
   "outputs": [
    {
     "name": "stdout",
     "output_type": "stream",
     "text": [
      "succes\n"
     ]
    }
   ],
   "source": [
    "graph_to_txt(mygraph)"
   ]
  },
  {
   "cell_type": "code",
   "execution_count": 4,
   "metadata": {},
   "outputs": [],
   "source": [
    "mygraph.delete_all()"
   ]
  },
  {
   "cell_type": "code",
   "execution_count": null,
   "metadata": {},
   "outputs": [],
   "source": []
  }
 ],
 "metadata": {
  "kernelspec": {
   "display_name": "Python 3.9.7 ('base')",
   "language": "python",
   "name": "python3"
  },
  "language_info": {
   "codemirror_mode": {
    "name": "ipython",
    "version": 3
   },
   "file_extension": ".py",
   "mimetype": "text/x-python",
   "name": "python",
   "nbconvert_exporter": "python",
   "pygments_lexer": "ipython3",
   "version": "3.9.7"
  },
  "orig_nbformat": 4,
  "vscode": {
   "interpreter": {
    "hash": "ad2bdc8ecc057115af97d19610ffacc2b4e99fae6737bb82f5d7fb13d2f2c186"
   }
  }
 },
 "nbformat": 4,
 "nbformat_minor": 2
}
