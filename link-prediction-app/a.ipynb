{
 "cells": [
  {
   "cell_type": "code",
   "execution_count": 15,
   "metadata": {},
   "outputs": [],
   "source": [
    "from neo4j import GraphDatabase\n",
    "import networks as nxj\n",
    "from networks import community\n",
    "import  numpy as np\n",
    "from sklearn.svm import SVC\n",
    "\n",
    "from neo4j import GraphDatabase\n",
    "import networks as netwXj\n",
    "from networks import community\n",
    "import pandas as pd\n",
    "\n",
    "import matplotlib.pyplot as plt\n",
    "import csv\n"
   ]
  },
  {
   "cell_type": "code",
   "execution_count": 62,
   "metadata": {},
   "outputs": [],
   "source": [
    "def get_graph_list(G):\n",
    "    edges=list(G.edges(data=True))\n",
    "    nodes=list(G.nodes(data=True))\n",
    "    return nodes,edges"
   ]
  },
  {
   "cell_type": "code",
   "execution_count": 56,
   "metadata": {},
   "outputs": [],
   "source": [
    "def txt_to_graph(mygraph):\n",
    "    FNodes = csv.reader(open(\"nodes.txt\"),delimiter='\\n')\n",
    "    FEdges = csv.reader(open(\"edges.txt\"),delimiter='\\n')\n",
    "    mygraph.delete_all()\n",
    "    for row in FNodes:\n",
    "        rowlist=row[0].split(' ')\n",
    "        mygraph.add_node(\n",
    "            rowlist[0],\n",
    "            familyName=rowlist[1],\n",
    "            firstName=rowlist[2],\n",
    "            dateOfBirth=rowlist[3])\n",
    "    for row in FEdges:\n",
    "        rowlist=row[0].split(' ')\n",
    "        mygraph.add_edge(rowlist[0],rowlist[1],timpstamp=rowlist[2],bool10=rowlist[3])\n",
    "\n",
    "        \n"
   ]
  },
  {
   "cell_type": "code",
   "execution_count": 93,
   "metadata": {},
   "outputs": [],
   "source": [
    "\n",
    "def graph_to_txt(mygraph):\n",
    "    mynodes,myedges=get_graph_list(mygraph)\n",
    "    \n",
    "    ef=open(\"edgesFromNeo4j.txt\",'w')\n",
    "    for edge in myedges:\n",
    "        listAttributeEdge=[edge[0],edge[1]]\n",
    "        listAttributeEdge.append(edge[2]['timpstamp'])\n",
    "        listAttributeEdge.append(edge[2]['bool10'])\n",
    "        #print(listAttributeEdge)\n",
    "        ef.write(''+str(listAttributeEdge[0])+' '+str(listAttributeEdge[1])+' '+str(listAttributeEdge[2])+' '+str(listAttributeEdge[3])+'\\n')\n",
    "        \n",
    "    ef.close()\n",
    "    \n",
    "    nf=open(\"nodesFromNeo4j.txt\",'w')\n",
    "    for node in mynodes:\n",
    "        listAttribute=[node[0]]\n",
    "        listAttribute.append(node[1]['firstName'])\n",
    "        listAttribute.append(node[1]['familyName'])\n",
    "        listAttribute.append(node[1]['dateOfBirth'])\n",
    "        print(listAttribute)\n",
    "        nf.write(''+str(listAttribute[0])+' '+str(listAttribute[1])+' '+str(listAttribute[2])+' '+str(listAttribute[3])+'\\n')\n",
    "    nf.close()\n",
    "    print('succes')\n",
    "\n",
    "        \n",
    "\n",
    "\n",
    "    "
   ]
  },
  {
   "cell_type": "code",
   "execution_count": 1,
   "metadata": {},
   "outputs": [
    {
     "ename": "NameError",
     "evalue": "name 'GraphDatabase' is not defined",
     "output_type": "error",
     "traceback": [
      "\u001b[1;31m---------------------------------------------------------------------------\u001b[0m",
      "\u001b[1;31mNameError\u001b[0m                                 Traceback (most recent call last)",
      "\u001b[1;32mC:\\Users\\MSIGF~1\\AppData\\Local\\Temp/ipykernel_20092/2451040798.py\u001b[0m in \u001b[0;36m<module>\u001b[1;34m\u001b[0m\n\u001b[1;32m----> 1\u001b[1;33m \u001b[0mdriver\u001b[0m \u001b[1;33m=\u001b[0m \u001b[0mGraphDatabase\u001b[0m\u001b[1;33m.\u001b[0m\u001b[0mdriver\u001b[0m\u001b[1;33m(\u001b[0m\u001b[0muri\u001b[0m\u001b[1;33m=\u001b[0m\u001b[1;34m\"bolt://localhost:11003\"\u001b[0m\u001b[1;33m,\u001b[0m\u001b[0mauth\u001b[0m\u001b[1;33m=\u001b[0m\u001b[1;33m(\u001b[0m\u001b[1;34m\"emmimoun\"\u001b[0m\u001b[1;33m,\u001b[0m\u001b[1;34m\"emmimoun\"\u001b[0m\u001b[1;33m)\u001b[0m\u001b[1;33m)\u001b[0m\u001b[1;33m\u001b[0m\u001b[1;33m\u001b[0m\u001b[0m\n\u001b[0m\u001b[0;32m      2\u001b[0m \u001b[0mmygraph\u001b[0m \u001b[1;33m=\u001b[0m \u001b[0mnxj\u001b[0m\u001b[1;33m.\u001b[0m\u001b[0mGraph\u001b[0m\u001b[1;33m(\u001b[0m\u001b[0mdriver\u001b[0m\u001b[1;33m)\u001b[0m\u001b[1;33m\u001b[0m\u001b[1;33m\u001b[0m\u001b[0m\n\u001b[0;32m      3\u001b[0m \u001b[0mmygraph\u001b[0m\u001b[1;33m.\u001b[0m\u001b[0mdelete_all\u001b[0m\u001b[1;33m(\u001b[0m\u001b[1;33m)\u001b[0m\u001b[1;33m\u001b[0m\u001b[1;33m\u001b[0m\u001b[0m\n",
      "\u001b[1;31mNameError\u001b[0m: name 'GraphDatabase' is not defined"
     ]
    }
   ],
   "source": [
    "driver = GraphDatabase.driver(uri=\"bolt://localhost:11003\",auth=(\"emmimoun\",\"emmimoun\"))\n",
    "mygraph = nxj.Graph(driver)\n",
    "mygraph.delete_all()"
   ]
  },
  {
   "cell_type": "code",
   "execution_count": 58,
   "metadata": {},
   "outputs": [],
   "source": [
    "\n",
    "mygraph.identifier_property = 'identifiant'\n",
    "mygraph.relationship_type = '-'\n",
    "mygraph.node_label = 'Personne'"
   ]
  },
  {
   "cell_type": "code",
   "execution_count": 59,
   "metadata": {},
   "outputs": [],
   "source": [
    "txt_to_graph(mygraph)"
   ]
  },
  {
   "cell_type": "code",
   "execution_count": 22,
   "metadata": {},
   "outputs": [],
   "source": [
    "mynodes,myedges=get_graph_list(mygraph)"
   ]
  },
  {
   "cell_type": "code",
   "execution_count": null,
   "metadata": {},
   "outputs": [],
   "source": [
    "mynodes,myedges"
   ]
  },
  {
   "cell_type": "code",
   "execution_count": 96,
   "metadata": {},
   "outputs": [
    {
     "name": "stdout",
     "output_type": "stream",
     "text": [
      "['29', 'mohamed', 'Emmimoun', '12/07/1998']\n",
      "['28', 'Nour-El-Houda', 'khadraoui', '07/10/1997']\n",
      "['37', 'naz', 'emmimoun', '8/2/1995']\n",
      "['57', 'naw', 'emmimoun', '12/5/2000']\n",
      "['39', 'kada', 'emmimoun', '25/01/1968']\n",
      "['5', 'moussaoui', 'emmimoun', '28/04/2008']\n",
      "['19', 'samir', 'emmimoun', '8/4/1996']\n",
      "['56541', 'aaaaa', 'bbbb', '6/4/2000']\n",
      "['565415', 'aaaaa2', 'bbbb654', '6/4/2002']\n",
      "['429999', 'aaaaa2', 'bbbb654654', '6/4/2004']\n",
      "['911', 'aymene', 'ee', '6/4/2008']\n",
      "['911654', 'hhhhh', 'hhhhhhhhhh', '6/4/2021']\n",
      "['91165465', 'hhhhh', 'hhhhhhhhhh', '6/4/2021']\n",
      "['11111465', 'hhhhh', 'hhhhhhhhhh', '6/4/2021']\n",
      "['1111', '1111', '1111', '111111']\n",
      "['15', '1', '1', '1']\n",
      "['1', '1', '1', '1']\n"
     ]
    },
    {
     "ename": "KeyError",
     "evalue": "'firstName'",
     "output_type": "error",
     "traceback": [
      "\u001b[1;31m---------------------------------------------------------------------------\u001b[0m",
      "\u001b[1;31mKeyError\u001b[0m                                  Traceback (most recent call last)",
      "\u001b[1;32mC:\\Users\\MSIGF~1\\AppData\\Local\\Temp/ipykernel_12652/3935287833.py\u001b[0m in \u001b[0;36m<module>\u001b[1;34m\u001b[0m\n\u001b[1;32m----> 1\u001b[1;33m \u001b[0mgraph_to_txt\u001b[0m\u001b[1;33m(\u001b[0m\u001b[0mmygraph\u001b[0m\u001b[1;33m)\u001b[0m\u001b[1;33m\u001b[0m\u001b[1;33m\u001b[0m\u001b[0m\n\u001b[0m",
      "\u001b[1;32mC:\\Users\\MSIGF~1\\AppData\\Local\\Temp/ipykernel_12652/1902584712.py\u001b[0m in \u001b[0;36mgraph_to_txt\u001b[1;34m(mygraph)\u001b[0m\n\u001b[0;32m     17\u001b[0m         \u001b[0mid\u001b[0m\u001b[1;33m=\u001b[0m\u001b[1;33m[\u001b[0m\u001b[0mnode\u001b[0m\u001b[1;33m[\u001b[0m\u001b[1;36m0\u001b[0m\u001b[1;33m]\u001b[0m\u001b[1;33m]\u001b[0m\u001b[1;33m\u001b[0m\u001b[1;33m\u001b[0m\u001b[0m\n\u001b[0;32m     18\u001b[0m         \u001b[0mlistAttribute\u001b[0m\u001b[1;33m=\u001b[0m\u001b[1;33m[\u001b[0m\u001b[1;33m]\u001b[0m\u001b[1;33m\u001b[0m\u001b[1;33m\u001b[0m\u001b[0m\n\u001b[1;32m---> 19\u001b[1;33m         \u001b[0mlistAttribute\u001b[0m\u001b[1;33m=\u001b[0m\u001b[1;33m[\u001b[0m\u001b[0mnode\u001b[0m\u001b[1;33m[\u001b[0m\u001b[1;36m1\u001b[0m\u001b[1;33m]\u001b[0m\u001b[1;33m[\u001b[0m\u001b[1;34m'firstName'\u001b[0m\u001b[1;33m]\u001b[0m\u001b[1;33m,\u001b[0m\u001b[0mnode\u001b[0m\u001b[1;33m[\u001b[0m\u001b[1;36m1\u001b[0m\u001b[1;33m]\u001b[0m\u001b[1;33m[\u001b[0m\u001b[1;34m'familyName'\u001b[0m\u001b[1;33m]\u001b[0m\u001b[1;33m,\u001b[0m\u001b[0mnode\u001b[0m\u001b[1;33m[\u001b[0m\u001b[1;36m1\u001b[0m\u001b[1;33m]\u001b[0m\u001b[1;33m[\u001b[0m\u001b[1;34m'dateOfBirth'\u001b[0m\u001b[1;33m]\u001b[0m\u001b[1;33m]\u001b[0m\u001b[1;33m\u001b[0m\u001b[1;33m\u001b[0m\u001b[0m\n\u001b[0m\u001b[0;32m     20\u001b[0m \u001b[1;33m\u001b[0m\u001b[0m\n\u001b[0;32m     21\u001b[0m         \u001b[1;32mfor\u001b[0m \u001b[0mitem\u001b[0m \u001b[1;32min\u001b[0m \u001b[0mlistAttribute\u001b[0m\u001b[1;33m:\u001b[0m\u001b[1;33m\u001b[0m\u001b[1;33m\u001b[0m\u001b[0m\n",
      "\u001b[1;31mKeyError\u001b[0m: 'firstName'"
     ]
    }
   ],
   "source": [
    "graph_to_txt(mygraph)"
   ]
  },
  {
   "cell_type": "code",
   "execution_count": 65,
   "metadata": {},
   "outputs": [],
   "source": [
    "mynodes,myedges=get_graph_list(mygraph)\n",
    "\n"
   ]
  },
  {
   "cell_type": "code",
   "execution_count": 98,
   "metadata": {},
   "outputs": [
    {
     "name": "stdout",
     "output_type": "stream",
     "text": [
      "['29', 'mohamed', 'Emmimoun', '12/07/1998']\n",
      "['28', 'Nour-El-Houda', 'khadraoui', '07/10/1997']\n",
      "['37', 'naz', 'emmimoun', '8/2/1995']\n",
      "['57', 'naw', 'emmimoun', '12/5/2000']\n",
      "['39', 'kada', 'emmimoun', '25/01/1968']\n",
      "['5', 'moussaoui', 'emmimoun', '28/04/2008']\n",
      "['19', 'samir', 'emmimoun', '8/4/1996']\n",
      "['56541', 'aaaaa', 'bbbb', '6/4/2000']\n",
      "['565415', 'aaaaa2', 'bbbb654', '6/4/2002']\n",
      "['429999', 'aaaaa2', 'bbbb654654', '6/4/2004']\n",
      "['911', 'aymene', 'ee', '6/4/2008']\n",
      "['911654', 'hhhhh', 'hhhhhhhhhh', '6/4/2021']\n",
      "['91165465', 'hhhhh', 'hhhhhhhhhh', '6/4/2021']\n",
      "['11111465', 'hhhhh', 'hhhhhhhhhh', '6/4/2021']\n",
      "['1111', '1111', '1111', '111111']\n",
      "['15', '1', '1', '1']\n",
      "['1', '1', '1', '1']\n"
     ]
    },
    {
     "ename": "KeyError",
     "evalue": "'firstName'",
     "output_type": "error",
     "traceback": [
      "\u001b[1;31m---------------------------------------------------------------------------\u001b[0m",
      "\u001b[1;31mKeyError\u001b[0m                                  Traceback (most recent call last)",
      "\u001b[1;32mC:\\Users\\MSIGF~1\\AppData\\Local\\Temp/ipykernel_12652/1767844338.py\u001b[0m in \u001b[0;36m<module>\u001b[1;34m\u001b[0m\n\u001b[0;32m      4\u001b[0m     \u001b[0mid\u001b[0m\u001b[1;33m=\u001b[0m\u001b[1;33m[\u001b[0m\u001b[0mnode\u001b[0m\u001b[1;33m[\u001b[0m\u001b[1;36m0\u001b[0m\u001b[1;33m]\u001b[0m\u001b[1;33m]\u001b[0m\u001b[1;33m\u001b[0m\u001b[1;33m\u001b[0m\u001b[0m\n\u001b[0;32m      5\u001b[0m     \u001b[0mlistAttribute\u001b[0m\u001b[1;33m=\u001b[0m\u001b[1;33m[\u001b[0m\u001b[1;33m]\u001b[0m\u001b[1;33m\u001b[0m\u001b[1;33m\u001b[0m\u001b[0m\n\u001b[1;32m----> 6\u001b[1;33m     \u001b[0mlistAttribute\u001b[0m\u001b[1;33m=\u001b[0m\u001b[1;33m[\u001b[0m\u001b[0mnode\u001b[0m\u001b[1;33m[\u001b[0m\u001b[1;36m1\u001b[0m\u001b[1;33m]\u001b[0m\u001b[1;33m[\u001b[0m\u001b[1;34m'firstName'\u001b[0m\u001b[1;33m]\u001b[0m\u001b[1;33m,\u001b[0m\u001b[0mnode\u001b[0m\u001b[1;33m[\u001b[0m\u001b[1;36m1\u001b[0m\u001b[1;33m]\u001b[0m\u001b[1;33m[\u001b[0m\u001b[1;34m'familyName'\u001b[0m\u001b[1;33m]\u001b[0m\u001b[1;33m,\u001b[0m\u001b[0mnode\u001b[0m\u001b[1;33m[\u001b[0m\u001b[1;36m1\u001b[0m\u001b[1;33m]\u001b[0m\u001b[1;33m[\u001b[0m\u001b[1;34m'dateOfBirth'\u001b[0m\u001b[1;33m]\u001b[0m\u001b[1;33m]\u001b[0m\u001b[1;33m\u001b[0m\u001b[1;33m\u001b[0m\u001b[0m\n\u001b[0m\u001b[0;32m      7\u001b[0m \u001b[1;33m\u001b[0m\u001b[0m\n\u001b[0;32m      8\u001b[0m     \u001b[1;32mfor\u001b[0m \u001b[0mitem\u001b[0m \u001b[1;32min\u001b[0m \u001b[0mlistAttribute\u001b[0m\u001b[1;33m:\u001b[0m\u001b[1;33m\u001b[0m\u001b[1;33m\u001b[0m\u001b[0m\n",
      "\u001b[1;31mKeyError\u001b[0m: 'firstName'"
     ]
    }
   ],
   "source": [
    "\n",
    "nf=open(\"nodesFromNeo4j.txt\",'w')\n",
    "for node in mynodes:\n",
    "\n",
    "    id=[node[0]]\n",
    "    listAttribute=[]\n",
    "    listAttribute=[node[1]['firstName'],node[1]['familyName'],node[1]['dateOfBirth']]\n",
    "\n",
    "    for item in listAttribute:\n",
    "        id.append(item)\n",
    "    \n",
    "    listAttribute=id\n",
    "    print(listAttribute)\n",
    "    nf.write(''+str(listAttribute[0])+' '+str(listAttribute[1])+' '+str(listAttribute[2])+' '+str(listAttribute[3])+'\\n')\n",
    "nf.close()\n",
    "print('succes')\n"
   ]
  },
  {
   "cell_type": "code",
   "execution_count": 97,
   "metadata": {},
   "outputs": [],
   "source": [
    "nf.close()"
   ]
  },
  {
   "cell_type": "code",
   "execution_count": 75,
   "metadata": {},
   "outputs": [],
   "source": [
    "ef=open(\"edgesFromNeo4j.txt\",'w')\n",
    "for edge in myedges:\n",
    "    listAttributeEdge=[edge[0],edge[1]]\n",
    "    listAttributeEdge.append(edge[2]['timpstamp'])\n",
    "    listAttributeEdge.append(edge[2]['bool10'])\n",
    "    #print(listAttributeEdge)\n",
    "    ef.write(''+str(listAttributeEdge[0])+' '+str(listAttributeEdge[1])+' '+str(listAttributeEdge[2])+' '+str(listAttributeEdge[3])+'\\n')\n",
    "    \n",
    "ef.close()\n"
   ]
  },
  {
   "cell_type": "code",
   "execution_count": 86,
   "metadata": {},
   "outputs": [
    {
     "data": {
      "text/plain": [
       "\"\\n\\nmygraph.add_edges_from([ \\n    \\n    (1, 'sami'),('sami', 'anis'), \\n    ('anis', 'amine'), ('amine', 'aymen'), \\n    ('sami', 'aymen') ,('halim', 'aymen'), \\n    ('halim', 'anis')\\n    \\n    ])\\n\\n\""
      ]
     },
     "execution_count": 86,
     "metadata": {},
     "output_type": "execute_result"
    }
   ],
   "source": [
    "\n",
    "'''\n",
    "\n",
    "mygraph.add_edges_from([ \n",
    "    \n",
    "    (1, 'sami'),('sami', 'anis'), \n",
    "    ('anis', 'amine'), ('amine', 'aymen'), \n",
    "    ('sami', 'aymen') ,('halim', 'aymen'), \n",
    "    ('halim', 'anis')\n",
    "    \n",
    "    ])\n",
    "\n",
    "'''\n"
   ]
  },
  {
   "cell_type": "code",
   "execution_count": 55,
   "metadata": {},
   "outputs": [],
   "source": [
    "#mygraph.delete_all()\n",
    "#mygraph.add_edge(29,28,timpstamp=4)\n",
    "\n"
   ]
  },
  {
   "cell_type": "code",
   "execution_count": 49,
   "metadata": {},
   "outputs": [
    {
     "data": {
      "text/plain": [
       "[('29', '1'),\n",
       " ('29', '1111'),\n",
       " ('29', '11111465'),\n",
       " ('29', '91295465'),\n",
       " ('29', '912954'),\n",
       " ('29', '429999'),\n",
       " ('29', '565415'),\n",
       " ('29', '911'),\n",
       " ('29', '28'),\n",
       " ('28', '15')]"
      ]
     },
     "execution_count": 49,
     "metadata": {},
     "output_type": "execute_result"
    }
   ],
   "source": [
    "mygraph.add_node(\"Betuul\",age=4,gender='F')\n",
    "list(mygraph.edges())\n"
   ]
  },
  {
   "cell_type": "code",
   "execution_count": 163,
   "metadata": {},
   "outputs": [
    {
     "name": "stdout",
     "output_type": "stream",
     "text": [
      "\n"
     ]
    }
   ],
   "source": [
    "nxj.draw(mygraph)\n",
    "print('')"
   ]
  },
  {
   "cell_type": "code",
   "execution_count": 120,
   "metadata": {},
   "outputs": [
    {
     "data": {
      "text/plain": [
       "([(1, {}),\n",
       "  ('sami', {}),\n",
       "  ('anis', {}),\n",
       "  ('amine', {}),\n",
       "  ('halim', {}),\n",
       "  ('aymen', {}),\n",
       "  ('Betuul', {'gender': 'F', 'age': 4})],\n",
       " [(1, 'sami'),\n",
       "  ('sami', 'aymen'),\n",
       "  ('sami', 'anis'),\n",
       "  ('anis', 'amine'),\n",
       "  ('amine', 'aymen'),\n",
       "  ('halim', 'anis'),\n",
       "  ('halim', 'aymen')])"
      ]
     },
     "execution_count": 120,
     "metadata": {},
     "output_type": "execute_result"
    }
   ],
   "source": [
    "get_graph_list(mygraph)"
   ]
  },
  {
   "cell_type": "code",
   "execution_count": 121,
   "metadata": {},
   "outputs": [
    {
     "name": "stdout",
     "output_type": "stream",
     "text": [
      "number of nodes 7\n",
      "Available nodes: [1, 'sami', 'anis', 'amine', 'halim', 'aymen', 'Betuul']\n",
      "Available edges: [(1, 'sami'), ('sami', 'aymen'), ('sami', 'anis'), ('anis', 'amine'), ('amine', 'aymen'), ('halim', 'anis'), ('halim', 'aymen')]\n"
     ]
    }
   ],
   "source": [
    "def get_graph_info(graph):\n",
    "    print(\"number of nodes\", graph.__len__())\n",
    "    print(\"Available nodes:\", list(graph.nodes))\n",
    "    print(\"Available edges:\", list(graph.edges))\n",
    "\n",
    "get_graph_info(mygraph)"
   ]
  },
  {
   "cell_type": "code",
   "execution_count": 122,
   "metadata": {},
   "outputs": [
    {
     "data": {
      "text/plain": [
       "([(1, {}),\n",
       "  ('sami', {}),\n",
       "  ('anis', {}),\n",
       "  ('amine', {}),\n",
       "  ('halim', {}),\n",
       "  ('aymen', {}),\n",
       "  ('Betuul', {'gender': 'F', 'age': 4})],\n",
       " [(1, 'sami'),\n",
       "  ('sami', 'aymen'),\n",
       "  ('sami', 'anis'),\n",
       "  ('anis', 'amine'),\n",
       "  ('amine', 'aymen'),\n",
       "  ('halim', 'anis'),\n",
       "  ('halim', 'aymen')])"
      ]
     },
     "execution_count": 122,
     "metadata": {},
     "output_type": "execute_result"
    }
   ],
   "source": [
    "get_graph_list(mygraph)"
   ]
  },
  {
   "cell_type": "code",
   "execution_count": 123,
   "metadata": {},
   "outputs": [
    {
     "data": {
      "text/plain": [
       "[1, 'sami', 'anis', 'amine', 'halim', 'aymen', 'Betuul']"
      ]
     },
     "execution_count": 123,
     "metadata": {},
     "output_type": "execute_result"
    }
   ],
   "source": [
    "list(mygraph.nodes)\n"
   ]
  },
  {
   "cell_type": "code",
   "execution_count": 124,
   "metadata": {},
   "outputs": [
    {
     "name": "stdout",
     "output_type": "stream",
     "text": [
      "\n"
     ]
    },
    {
     "data": {
      "text/plain": [
       "[(1, 'sami'),\n",
       " ('sami', 'aymen'),\n",
       " ('sami', 'anis'),\n",
       " ('anis', 'amine'),\n",
       " ('amine', 'aymen'),\n",
       " ('halim', 'anis'),\n",
       " ('halim', 'aymen')]"
      ]
     },
     "execution_count": 124,
     "metadata": {},
     "output_type": "execute_result"
    }
   ],
   "source": [
    "\n",
    "nxj.draw(mygraph)\n",
    "print('')\n",
    "list(mygraph.edges())"
   ]
  },
  {
   "cell_type": "code",
   "execution_count": 125,
   "metadata": {},
   "outputs": [
    {
     "name": "stdout",
     "output_type": "stream",
     "text": [
      "betweenness_centrality\n",
      "{'Betuul': 0.0, 'amine': 0.3333333333333333, 'anis': 2.5, 'aymen': 2.5, 'halim': 0.3333333333333333, 'sami': 4.333333333333333, 1: 0.0}\n",
      "closeness_centrality\n",
      "{'sami': 0.7142857142857143, 'anis': 0.7142857142857143, 'aymen': 0.7142857142857143, 'amine': 0.5555555555555556, 'halim': 0.5555555555555556, 1: 0.45454545454545453, 'Betuul': 0.0}\n",
      "pagerank\n",
      "{1: 0.516214077755837, 'sami': 1.2925204543987079, 'anis': 1.2418918163043997, 'amine': 0.8537386959058268, 'halim': 0.8537386959058268, 'aymen': 1.2418918163043997, 'Betuul': 0.15000000000000002}\n",
      "triangles\n",
      "{'Betuul': 0, 'amine': 0, 'anis': 0, 'aymen': 0, 'halim': 0, 'sami': 0, 1: 0}\n",
      "clustering\n",
      "{1: 0.0, 'sami': 0.0, 'anis': 0.0, 'amine': 0.0, 'halim': 0.0, 'aymen': 0.0, 'Betuul': 0.0}\n",
      "degree_centrality\n",
      "{'Betuul': 0.0, 'amine': 2.0, 'anis': 3.0, 'aymen': 3.0, 'halim': 2.0, 'sami': 3.0, 1: 1.0}\n",
      "Community detection connected_components\n",
      "[{'Betuul'}, {'amine', 1, 'aymen', 'halim', 'sami', 'anis'}]\n",
      "Community detection Label propagation\n",
      "[{'amine', 1, 'aymen', 'halim', 'sami', 'anis'}, {'Betuul'}]\n"
     ]
    }
   ],
   "source": [
    "betweenness_centrality=nxj.betweenness_centrality(mygraph)\n",
    "print(\"betweenness_centrality\")\n",
    "print(betweenness_centrality)\n",
    "\n",
    "closeness_centrality=nxj.closeness_centrality(mygraph)\n",
    "print(\"closeness_centrality\")\n",
    "print(closeness_centrality)\n",
    "\n",
    "pagerank=nxj.pagerank(mygraph)\n",
    "print(\"pagerank\")\n",
    "print(pagerank)\n",
    "\n",
    "triangles=nxj.triangles(mygraph)\n",
    "print(\"triangles\")\n",
    "print(triangles)\n",
    "\n",
    "clustering=nxj.clustering(mygraph)\n",
    "print(\"clustering\")\n",
    "print(clustering)\n",
    "\n",
    "degree_centrality=nxj.degree_centrality(mygraph)\n",
    "print(\"degree_centrality\")\n",
    "print(degree_centrality)\n",
    "\n",
    "connected_components=list(nxj.community.connected_components(mygraph))\n",
    "print(\"Community detection connected_components\")\n",
    "print(connected_components)\n",
    "\n",
    "label_propagation=list(nxj.community.label_propagation_communities(mygraph))\n",
    "print(\"Community detection Label propagation\")\n",
    "print(label_propagation)\n"
   ]
  },
  {
   "cell_type": "code",
   "execution_count": 2,
   "metadata": {},
   "outputs": [
    {
     "data": {
      "text/plain": [
       "'\\nknown fails\\nG.add_node(\"Betul\",age=4)\\nG.add_node(\"Betul\",age=5) #this does not update the first one\\nG.nodes[\\'Betul\\'][\\'age\\'] = 5 #also does not work\\nlist(G.edges(data=True)) it would be nice to display labels here\\nG.edges([\\'Betul\\',\\'Nurgul\\']) #FAILS\\n'"
      ]
     },
     "execution_count": 2,
     "metadata": {},
     "output_type": "execute_result"
    }
   ],
   "source": [
    "\n",
    "\"\"\"\n",
    "known fails\n",
    "G.add_node(\"Betul\",age=4)\n",
    "G.add_node(\"Betul\",age=5) #this does not update the first one\n",
    "G.nodes['Betul']['age'] = 5 #also does not work\n",
    "list(G.edges(data=True)) it would be nice to display labels here\n",
    "G.edges(['Betul','Nurgul']) #FAILS\n",
    "\"\"\"\n",
    "\n",
    "#edges= [('sam', 'an'), ('an', 'is') ]\n",
    "#G = nx.Graph(edges)   \n",
    "#get_graph_info(G)  \n",
    "#plt.figure(1,figsize=(10,6)) \n",
    "#nx.draw(G, with_labels=True,font_size = 20, font_color='black')\n",
    "#plt.show()\n",
    "\n",
    "#list(nxj.community.label_propagation_communities(mygraph))\n",
    "#nxj.shortest_path(mygraph, source=1, target=4)"
   ]
  },
  {
   "cell_type": "code",
   "execution_count": 8,
   "metadata": {},
   "outputs": [],
   "source": [
    "\n",
    "\n",
    "def createGraphefromCsv(filename):\n",
    "    dataset = pd.read_csv(f'static/Datasetsmanip/{filename}',header=None)\n",
    "\n",
    "    x = dataset.iloc[0,:].values\n",
    "    y = dataset.iloc[:, 0].values\n",
    "    \n",
    "    edgelist=[] \n",
    "    for i in range(dataset.shape[0]):\n",
    "        for j in range(dataset.shape[1]):\n",
    "            if (dataset.iloc[i, j]=='1' or dataset.iloc[i, j]==2 or dataset.iloc[i, j]==1 or dataset.iloc[i, j]==3):\n",
    "                edgelist.append(( x[i],y[j]))\n",
    "                \n",
    "    return(edgelist)\n"
   ]
  },
  {
   "cell_type": "code",
   "execution_count": 9,
   "metadata": {},
   "outputs": [],
   "source": [
    "\n",
    "def createGraphefromxsl(filename):\n",
    "    print(filename)\n",
    "\n",
    "    datasetlisteliens= pd.read_excel(f'static/Datasetlisteliens/{filename}',header=[0])\n",
    "    #print(datasetlisteliens)\n",
    "    source = datasetlisteliens.iloc[:,0].values\n",
    "    target = datasetlisteliens.iloc[:, 1].values\n",
    "    \n",
    "    edgelist=[] \n",
    "    \n",
    "    for i in range(source.size):\n",
    "        edgelist.append(( str(source[i]),str(target[i])))\n",
    "\n",
    "    \n",
    "    return edgelist\n",
    "\n",
    "  "
   ]
  },
  {
   "cell_type": "code",
   "execution_count": 10,
   "metadata": {},
   "outputs": [
    {
     "name": "stdout",
     "output_type": "stream",
     "text": [
      "rel_The Hamburg 911 Cell 2001, Germany.xls\n"
     ]
    },
    {
     "ename": "FileNotFoundError",
     "evalue": "[Errno 2] No such file or directory: 'static/Datasetlisteliens/rel_The Hamburg 911 Cell 2001, Germany.xls'",
     "output_type": "error",
     "traceback": [
      "\u001b[1;31m---------------------------------------------------------------------------\u001b[0m",
      "\u001b[1;31mFileNotFoundError\u001b[0m                         Traceback (most recent call last)",
      "\u001b[1;32mC:\\Users\\MSIGF~1\\AppData\\Local\\Temp/ipykernel_19644/3665143096.py\u001b[0m in \u001b[0;36m<module>\u001b[1;34m\u001b[0m\n\u001b[0;32m      3\u001b[0m \u001b[1;33m\u001b[0m\u001b[0m\n\u001b[0;32m      4\u001b[0m \u001b[1;33m\u001b[0m\u001b[0m\n\u001b[1;32m----> 5\u001b[1;33m \u001b[0medgelist\u001b[0m\u001b[1;33m=\u001b[0m\u001b[0mcreateGraphefromxsl\u001b[0m\u001b[1;33m(\u001b[0m\u001b[0mfile\u001b[0m\u001b[1;33m)\u001b[0m\u001b[1;33m\u001b[0m\u001b[1;33m\u001b[0m\u001b[0m\n\u001b[0m\u001b[0;32m      6\u001b[0m \u001b[1;33m\u001b[0m\u001b[0m\n\u001b[0;32m      7\u001b[0m \u001b[0mdriver\u001b[0m \u001b[1;33m=\u001b[0m \u001b[0mGraphDatabase\u001b[0m\u001b[1;33m.\u001b[0m\u001b[0mdriver\u001b[0m\u001b[1;33m(\u001b[0m\u001b[0muri\u001b[0m\u001b[1;33m=\u001b[0m\u001b[1;34m\"bolt://localhost:11003\"\u001b[0m\u001b[1;33m,\u001b[0m\u001b[0mauth\u001b[0m\u001b[1;33m=\u001b[0m\u001b[1;33m(\u001b[0m\u001b[1;34m\"sam\"\u001b[0m\u001b[1;33m,\u001b[0m\u001b[1;34m\"sam\"\u001b[0m\u001b[1;33m)\u001b[0m\u001b[1;33m)\u001b[0m\u001b[1;33m\u001b[0m\u001b[1;33m\u001b[0m\u001b[0m\n",
      "\u001b[1;32mC:\\Users\\MSIGF~1\\AppData\\Local\\Temp/ipykernel_19644/3145787565.py\u001b[0m in \u001b[0;36mcreateGraphefromxsl\u001b[1;34m(filename)\u001b[0m\n\u001b[0;32m      2\u001b[0m     \u001b[0mprint\u001b[0m\u001b[1;33m(\u001b[0m\u001b[0mfilename\u001b[0m\u001b[1;33m)\u001b[0m\u001b[1;33m\u001b[0m\u001b[1;33m\u001b[0m\u001b[0m\n\u001b[0;32m      3\u001b[0m \u001b[1;33m\u001b[0m\u001b[0m\n\u001b[1;32m----> 4\u001b[1;33m     \u001b[0mdatasetlisteliens\u001b[0m\u001b[1;33m=\u001b[0m \u001b[0mpd\u001b[0m\u001b[1;33m.\u001b[0m\u001b[0mread_excel\u001b[0m\u001b[1;33m(\u001b[0m\u001b[1;34mf'static/Datasetlisteliens/{filename}'\u001b[0m\u001b[1;33m,\u001b[0m\u001b[0mheader\u001b[0m\u001b[1;33m=\u001b[0m\u001b[1;33m[\u001b[0m\u001b[1;36m0\u001b[0m\u001b[1;33m]\u001b[0m\u001b[1;33m)\u001b[0m\u001b[1;33m\u001b[0m\u001b[1;33m\u001b[0m\u001b[0m\n\u001b[0m\u001b[0;32m      5\u001b[0m     \u001b[1;31m#print(datasetlisteliens)\u001b[0m\u001b[1;33m\u001b[0m\u001b[1;33m\u001b[0m\u001b[0m\n\u001b[0;32m      6\u001b[0m     \u001b[0msource\u001b[0m \u001b[1;33m=\u001b[0m \u001b[0mdatasetlisteliens\u001b[0m\u001b[1;33m.\u001b[0m\u001b[0miloc\u001b[0m\u001b[1;33m[\u001b[0m\u001b[1;33m:\u001b[0m\u001b[1;33m,\u001b[0m\u001b[1;36m0\u001b[0m\u001b[1;33m]\u001b[0m\u001b[1;33m.\u001b[0m\u001b[0mvalues\u001b[0m\u001b[1;33m\u001b[0m\u001b[1;33m\u001b[0m\u001b[0m\n",
      "\u001b[1;32mC:\\ProgramData\\Anaconda3\\lib\\site-packages\\pandas\\util\\_decorators.py\u001b[0m in \u001b[0;36mwrapper\u001b[1;34m(*args, **kwargs)\u001b[0m\n\u001b[0;32m    309\u001b[0m                     \u001b[0mstacklevel\u001b[0m\u001b[1;33m=\u001b[0m\u001b[0mstacklevel\u001b[0m\u001b[1;33m,\u001b[0m\u001b[1;33m\u001b[0m\u001b[1;33m\u001b[0m\u001b[0m\n\u001b[0;32m    310\u001b[0m                 )\n\u001b[1;32m--> 311\u001b[1;33m             \u001b[1;32mreturn\u001b[0m \u001b[0mfunc\u001b[0m\u001b[1;33m(\u001b[0m\u001b[1;33m*\u001b[0m\u001b[0margs\u001b[0m\u001b[1;33m,\u001b[0m \u001b[1;33m**\u001b[0m\u001b[0mkwargs\u001b[0m\u001b[1;33m)\u001b[0m\u001b[1;33m\u001b[0m\u001b[1;33m\u001b[0m\u001b[0m\n\u001b[0m\u001b[0;32m    312\u001b[0m \u001b[1;33m\u001b[0m\u001b[0m\n\u001b[0;32m    313\u001b[0m         \u001b[1;32mreturn\u001b[0m \u001b[0mwrapper\u001b[0m\u001b[1;33m\u001b[0m\u001b[1;33m\u001b[0m\u001b[0m\n",
      "\u001b[1;32mC:\\ProgramData\\Anaconda3\\lib\\site-packages\\pandas\\io\\excel\\_base.py\u001b[0m in \u001b[0;36mread_excel\u001b[1;34m(io, sheet_name, header, names, index_col, usecols, squeeze, dtype, engine, converters, true_values, false_values, skiprows, nrows, na_values, keep_default_na, na_filter, verbose, parse_dates, date_parser, thousands, comment, skipfooter, convert_float, mangle_dupe_cols, storage_options)\u001b[0m\n\u001b[0;32m    362\u001b[0m     \u001b[1;32mif\u001b[0m \u001b[1;32mnot\u001b[0m \u001b[0misinstance\u001b[0m\u001b[1;33m(\u001b[0m\u001b[0mio\u001b[0m\u001b[1;33m,\u001b[0m \u001b[0mExcelFile\u001b[0m\u001b[1;33m)\u001b[0m\u001b[1;33m:\u001b[0m\u001b[1;33m\u001b[0m\u001b[1;33m\u001b[0m\u001b[0m\n\u001b[0;32m    363\u001b[0m         \u001b[0mshould_close\u001b[0m \u001b[1;33m=\u001b[0m \u001b[1;32mTrue\u001b[0m\u001b[1;33m\u001b[0m\u001b[1;33m\u001b[0m\u001b[0m\n\u001b[1;32m--> 364\u001b[1;33m         \u001b[0mio\u001b[0m \u001b[1;33m=\u001b[0m \u001b[0mExcelFile\u001b[0m\u001b[1;33m(\u001b[0m\u001b[0mio\u001b[0m\u001b[1;33m,\u001b[0m \u001b[0mstorage_options\u001b[0m\u001b[1;33m=\u001b[0m\u001b[0mstorage_options\u001b[0m\u001b[1;33m,\u001b[0m \u001b[0mengine\u001b[0m\u001b[1;33m=\u001b[0m\u001b[0mengine\u001b[0m\u001b[1;33m)\u001b[0m\u001b[1;33m\u001b[0m\u001b[1;33m\u001b[0m\u001b[0m\n\u001b[0m\u001b[0;32m    365\u001b[0m     \u001b[1;32melif\u001b[0m \u001b[0mengine\u001b[0m \u001b[1;32mand\u001b[0m \u001b[0mengine\u001b[0m \u001b[1;33m!=\u001b[0m \u001b[0mio\u001b[0m\u001b[1;33m.\u001b[0m\u001b[0mengine\u001b[0m\u001b[1;33m:\u001b[0m\u001b[1;33m\u001b[0m\u001b[1;33m\u001b[0m\u001b[0m\n\u001b[0;32m    366\u001b[0m         raise ValueError(\n",
      "\u001b[1;32mC:\\ProgramData\\Anaconda3\\lib\\site-packages\\pandas\\io\\excel\\_base.py\u001b[0m in \u001b[0;36m__init__\u001b[1;34m(self, path_or_buffer, engine, storage_options)\u001b[0m\n\u001b[0;32m   1189\u001b[0m                 \u001b[0mext\u001b[0m \u001b[1;33m=\u001b[0m \u001b[1;34m\"xls\"\u001b[0m\u001b[1;33m\u001b[0m\u001b[1;33m\u001b[0m\u001b[0m\n\u001b[0;32m   1190\u001b[0m             \u001b[1;32melse\u001b[0m\u001b[1;33m:\u001b[0m\u001b[1;33m\u001b[0m\u001b[1;33m\u001b[0m\u001b[0m\n\u001b[1;32m-> 1191\u001b[1;33m                 ext = inspect_excel_format(\n\u001b[0m\u001b[0;32m   1192\u001b[0m                     \u001b[0mcontent_or_path\u001b[0m\u001b[1;33m=\u001b[0m\u001b[0mpath_or_buffer\u001b[0m\u001b[1;33m,\u001b[0m \u001b[0mstorage_options\u001b[0m\u001b[1;33m=\u001b[0m\u001b[0mstorage_options\u001b[0m\u001b[1;33m\u001b[0m\u001b[1;33m\u001b[0m\u001b[0m\n\u001b[0;32m   1193\u001b[0m                 )\n",
      "\u001b[1;32mC:\\ProgramData\\Anaconda3\\lib\\site-packages\\pandas\\io\\excel\\_base.py\u001b[0m in \u001b[0;36minspect_excel_format\u001b[1;34m(content_or_path, storage_options)\u001b[0m\n\u001b[0;32m   1068\u001b[0m         \u001b[0mcontent_or_path\u001b[0m \u001b[1;33m=\u001b[0m \u001b[0mBytesIO\u001b[0m\u001b[1;33m(\u001b[0m\u001b[0mcontent_or_path\u001b[0m\u001b[1;33m)\u001b[0m\u001b[1;33m\u001b[0m\u001b[1;33m\u001b[0m\u001b[0m\n\u001b[0;32m   1069\u001b[0m \u001b[1;33m\u001b[0m\u001b[0m\n\u001b[1;32m-> 1070\u001b[1;33m     with get_handle(\n\u001b[0m\u001b[0;32m   1071\u001b[0m         \u001b[0mcontent_or_path\u001b[0m\u001b[1;33m,\u001b[0m \u001b[1;34m\"rb\"\u001b[0m\u001b[1;33m,\u001b[0m \u001b[0mstorage_options\u001b[0m\u001b[1;33m=\u001b[0m\u001b[0mstorage_options\u001b[0m\u001b[1;33m,\u001b[0m \u001b[0mis_text\u001b[0m\u001b[1;33m=\u001b[0m\u001b[1;32mFalse\u001b[0m\u001b[1;33m\u001b[0m\u001b[1;33m\u001b[0m\u001b[0m\n\u001b[0;32m   1072\u001b[0m     ) as handle:\n",
      "\u001b[1;32mC:\\ProgramData\\Anaconda3\\lib\\site-packages\\pandas\\io\\common.py\u001b[0m in \u001b[0;36mget_handle\u001b[1;34m(path_or_buf, mode, encoding, compression, memory_map, is_text, errors, storage_options)\u001b[0m\n\u001b[0;32m    709\u001b[0m         \u001b[1;32melse\u001b[0m\u001b[1;33m:\u001b[0m\u001b[1;33m\u001b[0m\u001b[1;33m\u001b[0m\u001b[0m\n\u001b[0;32m    710\u001b[0m             \u001b[1;31m# Binary mode\u001b[0m\u001b[1;33m\u001b[0m\u001b[1;33m\u001b[0m\u001b[0m\n\u001b[1;32m--> 711\u001b[1;33m             \u001b[0mhandle\u001b[0m \u001b[1;33m=\u001b[0m \u001b[0mopen\u001b[0m\u001b[1;33m(\u001b[0m\u001b[0mhandle\u001b[0m\u001b[1;33m,\u001b[0m \u001b[0mioargs\u001b[0m\u001b[1;33m.\u001b[0m\u001b[0mmode\u001b[0m\u001b[1;33m)\u001b[0m\u001b[1;33m\u001b[0m\u001b[1;33m\u001b[0m\u001b[0m\n\u001b[0m\u001b[0;32m    712\u001b[0m         \u001b[0mhandles\u001b[0m\u001b[1;33m.\u001b[0m\u001b[0mappend\u001b[0m\u001b[1;33m(\u001b[0m\u001b[0mhandle\u001b[0m\u001b[1;33m)\u001b[0m\u001b[1;33m\u001b[0m\u001b[1;33m\u001b[0m\u001b[0m\n\u001b[0;32m    713\u001b[0m \u001b[1;33m\u001b[0m\u001b[0m\n",
      "\u001b[1;31mFileNotFoundError\u001b[0m: [Errno 2] No such file or directory: 'static/Datasetlisteliens/rel_The Hamburg 911 Cell 2001, Germany.xls'"
     ]
    }
   ],
   "source": [
    " \n",
    "\n",
    "\n",
    "file='rel_The Hamburg 911 Cell 2001, Germany.xls'\n",
    "\n",
    "\n",
    "\n",
    "edgelist=createGraphefromxsl(file)\n",
    "          \n",
    "driver = GraphDatabase.driver(uri=\"bolt://localhost:11003\",auth=(\"sam\",\"sam\"))\n",
    "mygraphnetwXj = netwXj.Graph(driver)\n",
    "mygraphnetwXj.delete_all()\n",
    "mygraphnetwXj.add_edges_from(edgelist)\n",
    "\n"
   ]
  },
  {
   "cell_type": "code",
   "execution_count": null,
   "metadata": {},
   "outputs": [],
   "source": []
  }
 ],
 "metadata": {
  "interpreter": {
   "hash": "b3ba2566441a7c06988d0923437866b63cedc61552a5af99d1f4fb67d367b25f"
  },
  "kernelspec": {
   "display_name": "Python 3.9.7 64-bit",
   "language": "python",
   "name": "python3"
  },
  "language_info": {
   "codemirror_mode": {
    "name": "ipython",
    "version": 3
   },
   "file_extension": ".py",
   "mimetype": "text/x-python",
   "name": "python",
   "nbconvert_exporter": "python",
   "pygments_lexer": "ipython3",
   "version": "3.9.7"
  },
  "orig_nbformat": 4
 },
 "nbformat": 4,
 "nbformat_minor": 2
}
